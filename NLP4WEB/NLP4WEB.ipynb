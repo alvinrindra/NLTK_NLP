{
 "cells": [
  {
   "cell_type": "markdown",
   "metadata": {},
   "source": [
    "# SYLLABUS"
   ]
  },
  {
   "cell_type": "markdown",
   "metadata": {},
   "source": [
    "1. NLP, Web 2.0\n",
    "2. Levels of Linguistic Analysis\n",
    "3. UIMA: Introduction\n",
    "4. UIMA: Architecture and Applications\n",
    "5. Machine Learning for Genre and POS tagging\n",
    "6. Information Retrieval I\n",
    "7. Information Retrieval II\n",
    "8. Summarization\n",
    "9. Lexical Semantic Knowledge from Wiki{pedia, onary}\n",
    "10. Question Answering\n",
    "11. Subjectivity and Sentiment I\n",
    "12. Subjectivity and Sentiment II\n",
    "13. Web as Corpus I\n",
    "14. Web as Corpus II"
   ]
  },
  {
   "cell_type": "markdown",
   "metadata": {},
   "source": [
    "# NLP, Web 2.0"
   ]
  },
  {
   "cell_type": "markdown",
   "metadata": {},
   "source": [
    "![title](../img/NLP_WEB.png)"
   ]
  },
  {
   "cell_type": "markdown",
   "metadata": {},
   "source": [
    "### The web is an application area for NLP, e.g.:\n",
    "Information retrieval:\n",
    "* Search engines\n",
    "* Question answering\n",
    "* News aggregation\n",
    "Sentiment analysis\n",
    "### Web is a resource to improve the quality of NLP, e.g.:\n",
    "Web as a corpus\n",
    "Analyzing web-based knowledge repositories\n",
    "* Wikipedia\n",
    "* Wiktionary\n",
    "Recognizing synonyms, paraphrases and the like"
   ]
  },
  {
   "cell_type": "markdown",
   "metadata": {
    "collapsed": true
   },
   "source": [
    "# Levels of Linguistic Analysis"
   ]
  },
  {
   "cell_type": "markdown",
   "metadata": {
    "collapsed": true
   },
   "source": [
    "![analysis level of language understanding](../img/analysis_level.png)"
   ]
  },
  {
   "cell_type": "markdown",
   "metadata": {
    "collapsed": true
   },
   "source": [
    "phonetics is the study of the ways in which speech sounds are produced,\n",
    "phonology is the study of (1) how the speech sounds of a language\n",
    "are used in that language to distinguish meaningful units (such as words) from each other, and (2) how sounds are patterned in a language. Consequently,\n",
    "the study of phonology requires us to take meaning into consideration,\n",
    "while phonetics does not. In this section we explore phonology and\n",
    "the basic unit of phonological analysis, the phoneme.  Sound units that distinguish words from\n",
    "each other are called phonemes. We enclose phonemes in / / (e.g., /s/, /z/)\n",
    "to distinguish them from sounds ([s], [z]) and ordinary letters ('<s>', '<z>').\n",
    "\n",
    "Phonemes are most easily identified through minimal pairs. Thus Pete\n",
    "[pit] and beat [bit] differ only in that where [pit] has [p], [bit] has [b].\n",
    "These two words make a minimal pair that shows that [p] and [b] represent\n",
    "separate phonemes in English, which we symbolize as /p/, /b/. "
   ]
  },
  {
   "cell_type": "code",
   "execution_count": null,
   "metadata": {
    "collapsed": true
   },
   "outputs": [],
   "source": []
  }
 ],
 "metadata": {
  "kernelspec": {
   "display_name": "Python 2",
   "language": "python",
   "name": "python2"
  },
  "language_info": {
   "codemirror_mode": {
    "name": "ipython",
    "version": 2
   },
   "file_extension": ".py",
   "mimetype": "text/x-python",
   "name": "python",
   "nbconvert_exporter": "python",
   "pygments_lexer": "ipython2",
   "version": "2.7.12"
  }
 },
 "nbformat": 4,
 "nbformat_minor": 2
}
