{
 "cells": [
  {
   "cell_type": "markdown",
   "metadata": {},
   "source": [
    "# SYLLABUS"
   ]
  },
  {
   "cell_type": "markdown",
   "metadata": {},
   "source": [
    "1. NLP, Web 2.0\n",
    "2. Levels of Linguistic Analysis\n",
    "3. UIMA: Introduction\n",
    "4. UIMA: Architecture and Applications\n",
    "5. Machine Learning for Genre and POS tagging\n",
    "6. Information Retrieval I\n",
    "7. Information Retrieval II\n",
    "8. Summarization\n",
    "9. Lexical Semantic Knowledge from Wiki{pedia, onary}\n",
    "10. Question Answering\n",
    "11. Subjectivity and Sentiment I\n",
    "12. Subjectivity and Sentiment II\n",
    "13. Web as Corpus I\n",
    "14. Web as Corpus II"
   ]
  },
  {
   "cell_type": "code",
   "execution_count": null,
   "metadata": {
    "collapsed": true
   },
   "outputs": [],
   "source": []
  }
 ],
 "metadata": {
  "kernelspec": {
   "display_name": "Python 2",
   "language": "python",
   "name": "python2"
  },
  "language_info": {
   "codemirror_mode": {
    "name": "ipython",
    "version": 2
   },
   "file_extension": ".py",
   "mimetype": "text/x-python",
   "name": "python",
   "nbconvert_exporter": "python",
   "pygments_lexer": "ipython2",
   "version": "2.7.12"
  }
 },
 "nbformat": 4,
 "nbformat_minor": 2
}
